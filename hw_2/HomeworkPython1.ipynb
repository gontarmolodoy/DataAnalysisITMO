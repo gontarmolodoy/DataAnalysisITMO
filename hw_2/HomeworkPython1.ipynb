{
  "nbformat": 4,
  "nbformat_minor": 0,
  "metadata": {
    "colab": {
      "provenance": []
    },
    "kernelspec": {
      "name": "python3",
      "display_name": "Python 3"
    },
    "language_info": {
      "name": "python"
    }
  },
  "cells": [
    {
      "cell_type": "code",
      "execution_count": null,
      "metadata": {
        "colab": {
          "base_uri": "https://localhost:8080/",
          "height": 425
        },
        "id": "KEAAa1gijmjy",
        "outputId": "01b3b511-0baf-44a8-eb7b-17882f5545e3"
      },
      "outputs": [
        {
          "output_type": "stream",
          "name": "stdout",
          "text": [
            "Шоколадный батончик, добавка: Ореховая нуга\n",
            "Шоколадный батончик, 70 рублей\n",
            "Обычный шоколадный батончик\n",
            "Шоколадный батончик, 99 рублей\n",
            "Шоколадный батончик, добавка: Борщ\n",
            "Шоколадный батончик, 70 рублей\n"
          ]
        },
        {
          "output_type": "error",
          "ename": "ValueError",
          "evalue": "",
          "traceback": [
            "\u001b[0;31m---------------------------------------------------------------------------\u001b[0m",
            "\u001b[0;31mValueError\u001b[0m                                Traceback (most recent call last)",
            "\u001b[0;32m<ipython-input-16-7542d637e8ac>\u001b[0m in \u001b[0;36m<cell line: 38>\u001b[0;34m()\u001b[0m\n\u001b[1;32m     36\u001b[0m \u001b[0;34m\u001b[0m\u001b[0m\n\u001b[1;32m     37\u001b[0m \u001b[0;31m#Попробуем ввести отрицательную цену\u001b[0m\u001b[0;34m\u001b[0m\u001b[0;34m\u001b[0m\u001b[0m\n\u001b[0;32m---> 38\u001b[0;31m \u001b[0mtwix\u001b[0m \u001b[0;34m=\u001b[0m \u001b[0mChocolate\u001b[0m\u001b[0;34m(\u001b[0m\u001b[0;34m-\u001b[0m\u001b[0;36m22\u001b[0m\u001b[0;34m,\u001b[0m \u001b[0;34m'Мёд'\u001b[0m\u001b[0;34m)\u001b[0m\u001b[0;34m\u001b[0m\u001b[0;34m\u001b[0m\u001b[0m\n\u001b[0m",
            "\u001b[0;32m<ipython-input-16-7542d637e8ac>\u001b[0m in \u001b[0;36m__init__\u001b[0;34m(self, price, topping)\u001b[0m\n\u001b[1;32m      9\u001b[0m       \u001b[0;32melse\u001b[0m\u001b[0;34m:\u001b[0m\u001b[0;34m\u001b[0m\u001b[0;34m\u001b[0m\u001b[0m\n\u001b[1;32m     10\u001b[0m         \u001b[0;32mraise\u001b[0m \u001b[0mValueError\u001b[0m\u001b[0;34m(\u001b[0m\u001b[0;34m)\u001b[0m\u001b[0;34m\u001b[0m\u001b[0;34m\u001b[0m\u001b[0m\n\u001b[0;32m---> 11\u001b[0;31m     \u001b[0mself\u001b[0m\u001b[0;34m.\u001b[0m\u001b[0mprice\u001b[0m \u001b[0;34m=\u001b[0m \u001b[0mcheck_arg\u001b[0m\u001b[0;34m(\u001b[0m\u001b[0mprice\u001b[0m\u001b[0;34m)\u001b[0m\u001b[0;34m\u001b[0m\u001b[0;34m\u001b[0m\u001b[0m\n\u001b[0m\u001b[1;32m     12\u001b[0m \u001b[0;34m\u001b[0m\u001b[0m\n\u001b[1;32m     13\u001b[0m   \u001b[0;32mdef\u001b[0m \u001b[0mshow_my_chocolate\u001b[0m\u001b[0;34m(\u001b[0m\u001b[0mself\u001b[0m\u001b[0;34m)\u001b[0m\u001b[0;34m:\u001b[0m\u001b[0;34m\u001b[0m\u001b[0;34m\u001b[0m\u001b[0m\n",
            "\u001b[0;32m<ipython-input-16-7542d637e8ac>\u001b[0m in \u001b[0;36mcheck_arg\u001b[0;34m(price)\u001b[0m\n\u001b[1;32m      8\u001b[0m         \u001b[0;32mreturn\u001b[0m \u001b[0mprice\u001b[0m\u001b[0;34m\u001b[0m\u001b[0;34m\u001b[0m\u001b[0m\n\u001b[1;32m      9\u001b[0m       \u001b[0;32melse\u001b[0m\u001b[0;34m:\u001b[0m\u001b[0;34m\u001b[0m\u001b[0;34m\u001b[0m\u001b[0m\n\u001b[0;32m---> 10\u001b[0;31m         \u001b[0;32mraise\u001b[0m \u001b[0mValueError\u001b[0m\u001b[0;34m(\u001b[0m\u001b[0;34m)\u001b[0m\u001b[0;34m\u001b[0m\u001b[0;34m\u001b[0m\u001b[0m\n\u001b[0m\u001b[1;32m     11\u001b[0m     \u001b[0mself\u001b[0m\u001b[0;34m.\u001b[0m\u001b[0mprice\u001b[0m \u001b[0;34m=\u001b[0m \u001b[0mcheck_arg\u001b[0m\u001b[0;34m(\u001b[0m\u001b[0mprice\u001b[0m\u001b[0;34m)\u001b[0m\u001b[0;34m\u001b[0m\u001b[0;34m\u001b[0m\u001b[0m\n\u001b[1;32m     12\u001b[0m \u001b[0;34m\u001b[0m\u001b[0m\n",
            "\u001b[0;31mValueError\u001b[0m: "
          ]
        }
      ],
      "source": [
        "#Создаём класс\n",
        "class Chocolate:\n",
        "  def __init__ (self, price, topping):\n",
        "    self.topping = topping\n",
        "\n",
        "    def check_arg(price):\n",
        "      if isinstance(price, (int, float)) and price > 0:\n",
        "        return price\n",
        "      else:\n",
        "        raise ValueError()\n",
        "    self.price = check_arg(price)\n",
        "\n",
        "  def show_my_chocolate(self):\n",
        "    if self.topping != '':\n",
        "      print(f'Шоколадный батончик, добавка: {self.topping}')\n",
        "    else:\n",
        "      print('Обычный шоколадный батончик')\n",
        "\n",
        "  def __str__(self):\n",
        "    return f'Шоколадный батончик, {self.price} рублей'\n",
        "\n",
        "#Первый пример использования (есть и цена, и добавка)\n",
        "kitkat = Chocolate(70, 'Ореховая нуга')\n",
        "kitkat.show_my_chocolate()\n",
        "print(kitkat)\n",
        "\n",
        "#Есть цена, нет добавки\n",
        "snickers = Chocolate(99, '')\n",
        "snickers.show_my_chocolate()\n",
        "print(snickers)\n",
        "\n",
        "#Ещё один пример\n",
        "bombar = Chocolate(70, 'Борщ')\n",
        "bombar.show_my_chocolate()\n",
        "print(bombar)\n",
        "\n",
        "#Попробуем ввести отрицательную цену\n",
        "twix = Chocolate(-22, 'Мёд')"
      ]
    },
    {
      "cell_type": "code",
      "source": [],
      "metadata": {
        "id": "2W7Udim2jp3W"
      },
      "execution_count": null,
      "outputs": []
    }
  ]
}